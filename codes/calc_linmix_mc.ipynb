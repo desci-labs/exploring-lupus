{
 "cells": [
  {
   "cell_type": "markdown",
   "id": "ab8e24f1-3297-44a6-a0cb-3e6c6c4f9f9e",
   "metadata": {},
   "source": [
    "======================== Import Packages =========================="
   ]
  },
  {
   "cell_type": "code",
   "execution_count": 1,
   "id": "8afad076-7826-4ffa-8970-bc9c6d7078e7",
   "metadata": {
    "tags": []
   },
   "outputs": [],
   "source": [
    "import sys, os, pdb, glob\n",
    "import math\n",
    "import numpy as np\n",
    "import matplotlib as mpl\n",
    "import matplotlib.pyplot as plt\n",
    "from matplotlib.ticker import MaxNLocator\n",
    "from astropy.table import Table, join\n",
    "import linmix\n",
    "from astroquery.vizier import Vizier\n",
    "import warnings\n",
    "from astropy.logger import AstropyWarning\n",
    "warnings.filterwarnings('ignore', category=AstropyWarning)"
   ]
  },
  {
   "cell_type": "markdown",
   "id": "bd9f05ea-b28d-4294-8ca4-c5bdc6d368fc",
   "metadata": {},
   "source": [
    "===================== Define Functions ==================="
   ]
  },
  {
   "cell_type": "code",
   "execution_count": 2,
   "id": "57bb5b6b-5240-4993-a1bd-d587ca988d65",
   "metadata": {
    "tags": []
   },
   "outputs": [],
   "source": [
    "def get_data(catalog, join_key='Name', join_type='inner'):\n",
    "\n",
    "    \"\"\"\n",
    "    PURPOSE:    Get data from literature with Vizier\n",
    "\n",
    "    INPUT:      catalog = ctalog name on Vizier (str)\n",
    "                join_key = column header to join tables, if multiple (str; optional)\n",
    "                join_type = way to join tables, if multiple (str; optional)\n",
    "\n",
    "    OUTPUT:     t = data table (AstroPy Table)\n",
    "\n",
    "    \"\"\"\n",
    "\n",
    "    ### GET FULL CATALOG (ALL COLUMNS, ALL ROWS)\n",
    "    viz = Vizier(catalog=catalog, columns=['**'])\n",
    "    viz.ROW_LIMIT = -1\n",
    "    tv = viz.get_catalogs(catalog)\n",
    "\n",
    "    ### IF MULTIPLE TABLES, JOIN THEN\n",
    "    for i, val in enumerate(tv.keys()):\n",
    "        if i == 0:\n",
    "            t = tv[val]\n",
    "        else:\n",
    "            tt = tv[val]\n",
    "            if join_key in tt.columns:\n",
    "                t = join(t, tt, join_type=join_type, keys=join_key)\n",
    "\n",
    "    return t\n"
   ]
  },
  {
   "cell_type": "code",
   "execution_count": 3,
   "id": "36eef515-359f-40e4-9eba-88278f334aa0",
   "metadata": {
    "tags": []
   },
   "outputs": [],
   "source": [
    "def do_mc(x_data, x_err, y_data, y_err, ind_dd):\n",
    "\n",
    "    ### MAKE DETECTION ARRAY (1=DET, 0=NON-DET)\n",
    "    ddet = np.repeat(1, len(y_data))\n",
    "    ddet[~ind_dd] = 0\n",
    "\n",
    "    ### CALCULATE LINMIX FIT\n",
    "    lmcens  = linmix.LinMix(x_data, y_data, x_err, y_err, delta=ddet, K=3)\n",
    "    lmcens.run_mcmc(silent=True)\n",
    "    A, Ae = np.mean(lmcens.chain['alpha']), np.std(lmcens.chain['alpha'])\n",
    "    B, Be = np.mean(lmcens.chain['beta']), np.std(lmcens.chain['beta'])\n",
    "    D, De = np.mean(np.sqrt(lmcens.chain['sigsqr'])), np.std(np.sqrt(lmcens.chain['sigsqr']))\n",
    "\n",
    "    # print('\\n =====================================')\n",
    "    # print(\"\\n LinMix_Err terms:\")\n",
    "    # print(\"    A  = {0:.2f}\".format(A) + \"+/- {0:.2f}\".format(Ae))\n",
    "    # print(\"    B  = {0:.2f}\".format(B) + \"+/- {0:.2f}\".format(Be))\n",
    "    # print(\"    D  = {0:.2f}\".format(D) + \"+/- {0:.2f}\\n\".format(De))\n",
    "\n",
    "    ### SAVE TO FILE\n",
    "    pname = '../output/linmix_mc'\n",
    "    rn = len(glob.glob(pname + '/*rn.out'))\n",
    "    fname = pname + \"/\" + \"{0:02d}\".format(rn) + '_rn.out'\n",
    "    np.savetxt(fname, np.c_[lmcens.chain['alpha'], lmcens.chain['beta'], lmcens.chain['sigsqr']], fmt='%1.2e')\n",
    "\n",
    "    pars = np.array([A, Ae, B, Be, D, De])\n",
    "\n",
    "    return pars, x_data, x_err"
   ]
  },
  {
   "cell_type": "code",
   "execution_count": 4,
   "id": "09f2b2d7-247e-44a2-b1da-9e04c01474a8",
   "metadata": {
    "tags": []
   },
   "outputs": [],
   "source": [
    "def assign_mstar(ms, e_ms):\n",
    "\n",
    "    # INDEX STARS WITHOUT MASS MEASUREMENTS\n",
    "    f_ms = np.copy(ms.mask)\n",
    "    ind_nomass = np.where(ms.mask == True)\n",
    "\n",
    "    ### DISTRIBUTION OF LUPUS STELLAR MASSES\n",
    "    ### FROM Mortier+2011 (2011MNRAS.418.1194M) FIGURE 9\n",
    "    hist_values = np.array([ 5., 5., 12., 12., 12., 9., 9., 9., 1., 1., 1., 1., 1., 1.])\n",
    "    log_mstar_bins = np.array([-1.05, -0.95, -0.85, -0.75, -0.65, -0.55, -0.45, \n",
    "                               -0.35, -0.25, -0.15, -0.05,  0.05,  0.15,  0.25])\n",
    "    \n",
    "    ### RANDOMLY ASSIGN VALUE FROM RANGE SEEN IN LUPUS (MORTIER+2011)\n",
    "    ### USE MEDIAN FRACTIONAL ERROR OF MSTAR FOR LUPUS SOURCES WITH KNOWN MSTAR \n",
    "    mstar_probs = hist_values / np.sum(hist_values)\n",
    "    randm = 10**(np.random.choice(log_mstar_bins, len(ind_nomass[0]), p=list(mstar_probs)))\n",
    "    for i, val in enumerate(ind_nomass[0]):\n",
    "        ms[val] = \"{0:.2f}\".format(randm[i])\n",
    "        e_ms[val] = \"{0:.2f}\".format(randm[i] * .20) \n",
    "\n",
    "    return ms, e_ms, ~f_ms"
   ]
  },
  {
   "cell_type": "markdown",
   "id": "020d4c07-2a14-4d3c-83df-cea1adc328f6",
   "metadata": {},
   "source": [
    "============================= Code =================================="
   ]
  },
  {
   "cell_type": "code",
   "execution_count": 5,
   "id": "0cdbbf9a-6a26-413e-a811-467d9bf80a10",
   "metadata": {
    "tags": []
   },
   "outputs": [],
   "source": [
    "### MAKE OUTPUT DIRECTORY IF DOESN'T EXIST\n",
    "mc_dir = '../output/linmix_mc'\n",
    "if not os.path.exists(mc_dir):\n",
    "    os.makedirs(mc_dir)"
   ]
  },
  {
   "cell_type": "code",
   "execution_count": null,
   "id": "c0e68f2d-2942-48be-97f7-bdb169c3d245",
   "metadata": {
    "tags": []
   },
   "outputs": [],
   "source": [
    "### DO MC RUNS\n",
    "if __name__ == '__main__':\n",
    "\n",
    "    A, Ae, B, Be, D, De = [], [], [], [], [], []\n",
    "    for i, val in enumerate(np.arange(0,100)):\n",
    "\n",
    "        #### LOAD IN LUPUS DATA\n",
    "        T = get_data(\"J/ApJ/828/46\")\n",
    "\n",
    "        #### GET STELLAR MASSES FOR THOSE WITH UNKNOWN VALUES\n",
    "        mstar, e_mstar, ind_mstar = assign_mstar(T['Mass'], T['e_Mass'])\n",
    "        T['Mass'], T['e_Mass'] = mstar, e_mstar\n",
    "\n",
    "        ### INDEX (NON-)DETECTIONS\n",
    "        ind_dd = T['F890'] / T['e_F890'] >= 3.0\n",
    "        ind_nd = T['F890'] / T['e_F890'] < 3.0\n",
    "\n",
    "        ### DEFINE PLOT VARIABLES\n",
    "        x_data_lin = np.copy(T['Mass'])\n",
    "        y_data_lin = np.copy(T['MDust'])\n",
    "        y_data_lin[ind_nd] = 3.0 * np.copy(T['e_MDust'][ind_nd])\n",
    "        y_err_lin = np.sqrt((T['e_MDust'])**2 + (0.1 * T['e_MDust'])**2)\n",
    "        x_err_lin = np.copy(T['e_Mass'])\n",
    "\n",
    "        ### CONVERT TO LOG SCALE\n",
    "        x_data = np.log10(x_data_lin)\n",
    "        y_data = np.log10(y_data_lin)\n",
    "        y_err  = np.array(0.434 * (y_err_lin / y_data_lin))\n",
    "        x_err  = np.array(0.434 * (x_err_lin / x_data_lin))\n",
    "\n",
    "        ### GET MCMC FIT WITH LINMIX\n",
    "        pars, x_data, x_err = do_mc(x_data, x_err, y_data, y_err, ind_dd)\n",
    "        a, ae, b, be, d, de = pars[0], pars[1], pars[2], pars[3], pars[4], pars[5]\n",
    "        A.append(a)\n",
    "        Ae.append(ae)\n",
    "        B.append(b)\n",
    "        Be.append(be)\n",
    "        D.append(d)\n",
    "        De.append(de)"
   ]
  },
  {
   "cell_type": "code",
   "execution_count": null,
   "id": "81573156-eb47-4d75-a956-49fef32e1966",
   "metadata": {},
   "outputs": [],
   "source": []
  }
 ],
 "metadata": {
  "kernelspec": {
   "display_name": "Python 3 (ipykernel)",
   "language": "python",
   "name": "python3"
  },
  "language_info": {
   "codemirror_mode": {
    "name": "ipython",
    "version": 3
   },
   "file_extension": ".py",
   "mimetype": "text/x-python",
   "name": "python",
   "nbconvert_exporter": "python",
   "pygments_lexer": "ipython3",
   "version": "3.11.5"
  }
 },
 "nbformat": 4,
 "nbformat_minor": 5
}
