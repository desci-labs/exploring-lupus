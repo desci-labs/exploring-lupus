{
 "cells": [
  {
   "cell_type": "markdown",
   "id": "4a76a86a",
   "metadata": {},
   "source": [
    "===================== Import Packages ===================="
   ]
  },
  {
   "cell_type": "code",
   "execution_count": 1,
   "id": "286ea960",
   "metadata": {
    "tags": []
   },
   "outputs": [],
   "source": [
    "import sys, os, pdb, glob\n",
    "import math\n",
    "import numpy as np\n",
    "import matplotlib as mpl\n",
    "import matplotlib.pyplot as plt\n",
    "from matplotlib.ticker import MaxNLocator\n",
    "from astropy.table import Table, join\n",
    "from astroquery.vizier import Vizier\n",
    "import warnings\n",
    "from astropy.logger import AstropyWarning\n",
    "warnings.filterwarnings('ignore', category=AstropyWarning)"
   ]
  },
  {
   "cell_type": "markdown",
   "id": "6868c611",
   "metadata": {},
   "source": [
    "===================== Define Functions ==================="
   ]
  },
  {
   "cell_type": "code",
   "execution_count": 2,
   "id": "08433f82",
   "metadata": {
    "tags": []
   },
   "outputs": [],
   "source": [
    "def get_data(catalog, join_key='Name', join_type='inner'):\n",
    "\n",
    "    \"\"\"\n",
    "    PURPOSE:    Get data from literature with Vizier\n",
    "\n",
    "    INPUT:      catalog = ctalog name on Vizier (str)\n",
    "                join_key = column header to join tables, if multiple (str; optional)\n",
    "                join_type = way to join tables, if multiple (str; optional)\n",
    "\n",
    "    OUTPUT:     t = data table (AstroPy Table)\n",
    "\n",
    "    \"\"\"\n",
    "\n",
    "    ### GET FULL CATALOG (ALL COLUMNS, ALL ROWS)\n",
    "    viz = Vizier(catalog=catalog, columns=['**'])\n",
    "    viz.ROW_LIMIT = -1\n",
    "    tv = viz.get_catalogs(catalog)\n",
    "\n",
    "    ### IF MULTIPLE TABLES, JOIN THEN\n",
    "    for i, val in enumerate(tv.keys()):\n",
    "        if i == 0:\n",
    "            t = tv[val]\n",
    "        else:\n",
    "            tt = tv[val]\n",
    "            if join_key in tt.columns:\n",
    "                t = join(t, tt, join_type=join_type, keys=join_key)\n",
    "\n",
    "    return t"
   ]
  },
  {
   "cell_type": "code",
   "execution_count": 3,
   "id": "dae84fab",
   "metadata": {
    "tags": []
   },
   "outputs": [],
   "source": [
    "def assign_mstar(ms, e_ms):\n",
    "\n",
    "    # INDEX STARS WITHOUT MASS MEASUREMENTS\n",
    "    f_ms = np.copy(ms.mask)\n",
    "    ind_nomass = np.where(ms.mask == True)\n",
    "\n",
    "    ### DISTRIBUTION OF LUPUS STELLAR MASSES\n",
    "    ### FROM Mortier+2011 (2011MNRAS.418.1194M) FIGURE 9\n",
    "    hist_values = np.array([ 5., 5., 12., 12., 12., 9., 9., 9., 1., 1., 1., 1., 1., 1.])\n",
    "    log_mstar_bins = np.array([-1.05, -0.95, -0.85, -0.75, -0.65, -0.55, -0.45, \n",
    "                               -0.35, -0.25, -0.15, -0.05,  0.05,  0.15,  0.25])\n",
    "    \n",
    "    ### RANDOMLY ASSIGN VALUE FROM RANGE SEEN IN LUPUS (MORTIER+2011)\n",
    "    ### USE MEDIAN FRACTIONAL ERROR OF MSTAR FOR LUPUS SOURCES WITH KNOWN MSTAR \n",
    "    mstar_probs = hist_values / np.sum(hist_values)\n",
    "    randm = 10**(np.random.choice(log_mstar_bins, len(ind_nomass[0]), p=list(mstar_probs)))\n",
    "    for i, val in enumerate(ind_nomass[0]):\n",
    "        ms[val] = \"{0:.2f}\".format(randm[i])\n",
    "        e_ms[val] = \"{0:.2f}\".format(randm[i] * .20) \n",
    "\n",
    "    return ms, e_ms, ~f_ms"
   ]
  },
  {
   "cell_type": "code",
   "execution_count": 4,
   "id": "5fd976f1-c04d-4b4c-a316-0229a8054a65",
   "metadata": {
    "tags": []
   },
   "outputs": [],
   "source": [
    "def read_linmix_file(filename):\n",
    "\n",
    "    data = Table.read(filename, format='ascii.no_header')\n",
    "    data.rename_column('col1', 'a')\n",
    "    data.rename_column('col2', 'b')\n",
    "    data.rename_column('col3', 'd')\n",
    "\n",
    "    return data"
   ]
  },
  {
   "cell_type": "code",
   "execution_count": 5,
   "id": "5ad23c71-3aa8-4d9a-b730-83d46c1dbbc1",
   "metadata": {
    "tags": []
   },
   "outputs": [],
   "source": [
    "def get_linmix_mc(path):\n",
    "    \n",
    "    ### SETUP ARRAYS\n",
    "    files = np.array(glob.glob(os.path.join(path, '*rn.out')))\n",
    "    a_med, b_med, d_med = np.zeros(len(files)), np.zeros(len(files)), np.zeros(len(files))\n",
    "    a_avg, b_avg, d_avg = np.zeros(len(files)), np.zeros(len(files)), np.zeros(len(files))\n",
    "    a_std, b_std, d_std = np.zeros(len(files)), np.zeros(len(files)), np.zeros(len(files))\n",
    "    a_all, b_all, d_all = np.array([]), np.array([]), np.array([])\n",
    "\n",
    "    ### EXTRACT INFO FROM FILES\n",
    "    for i, val in enumerate(files):\n",
    "\n",
    "        data = read_linmix_file(val)\n",
    "\n",
    "        a_med[i], b_med[i], d_med[i] = np.median(data['a']), np.median(data['b']), np.median(data['d'])\n",
    "        a_avg[i], b_avg[i], d_avg[i] = np.mean(data['a']), np.mean(data['b']), np.mean(data['d'])\n",
    "        a_std[i], b_std[i], d_std[i] = np.std(data['a']), np.std(data['b']), np.std(data['d'])\n",
    "\n",
    "        a_all = np.append(a_all, [data['a']])\n",
    "        b_all = np.append(b_all, [data['b']])\n",
    "        d_all = np.append(d_all, [data['d']])\n",
    "\n",
    "    ### FINAL VALUES\n",
    "    A, Ae = np.mean(a_all), np.std(a_all)\n",
    "    B, Be = np.mean(b_all), np.std(b_all)\n",
    "    D, De = np.mean(d_all), np.std(d_all)\n",
    "\n",
    "    ### PRINT/PLOT RESULTS\n",
    "    print(\"\\nLinMix Monte Carlo fitting:\")\n",
    "    print(\"\\tA  = {0:.3f}\".format(A) + \"+/- {0:.3f}\".format(Ae))\n",
    "    print(\"\\tB  = {0:.3f}\".format(B) + \"+/- {0:.3f}\".format(Be))\n",
    "    print(\"\\tD  = {0:.3f}\".format(D) + \"+/- {0:.3f}\".format(De))\n",
    "\n",
    "    # CHECK GAUSSIAN SHAPE\n",
    "    # print(\"\")\n",
    "    # if np.abs(np.mean(a_med) - np.mean(a_avg)) > 0.01:\n",
    "    #     print(\"WARNING: alpha non-gaussian\")\n",
    "    # if np.abs(np.mean(b_med) - np.mean(b_avg)) > 0.01:\n",
    "    #     print(\"WARNING: beta non-gaussian\")\n",
    "    # if np.abs(np.mean(d_med) - np.mean(d_avg)) > 0.01:\n",
    "    #     print(\"WARNING: delta non-gaussian\")\n",
    "    # bins_a = 0.05 * np.arange(4, 44)\n",
    "    # bins_b = 0.05 * np.arange(10, 65)\n",
    "    # bins_d = 0.05 * np.arange(2, 40)\n",
    "    # mpl.rc('xtick', labelsize=10)\n",
    "    # mpl.rc('ytick', labelsize=10)\n",
    "    # mpl.rc('xtick.major', size=10)\n",
    "    # mpl.rc('ytick.major', size=10)\n",
    "    # fig = plt.figure(figsize=(8, 10))\n",
    "    # ax = fig.add_subplot(311)\n",
    "    # ax.set_xlabel('intercept (alpha)', fontsize=10)\n",
    "    # ax.hist(a_all, bins_a)\n",
    "    # ax = fig.add_subplot(312)\n",
    "    # ax.set_xlabel('slope (beta)', fontsize=10)\n",
    "    # ax.hist(b_all, bins_b)\n",
    "    # ax = fig.add_subplot(313)\n",
    "    # ax.set_xlabel('dispersion (delta)', fontsize=10)\n",
    "    # ax.hist(d_all, bins_d)\n",
    "    # plt.show()\n",
    "\n",
    "    return A, Ae, B, Be, D, De"
   ]
  },
  {
   "cell_type": "markdown",
   "id": "ac129a52",
   "metadata": {},
   "source": [
    "========================== Code =========================="
   ]
  },
  {
   "cell_type": "code",
   "execution_count": 11,
   "id": "42eabfdc",
   "metadata": {
    "tags": []
   },
   "outputs": [],
   "source": [
    "#### LOAD IN LUPUS DATA\n",
    "T = get_data(\"J/ApJ/828/46\")"
   ]
  },
  {
   "cell_type": "code",
   "execution_count": 12,
   "id": "35f9e31c",
   "metadata": {
    "tags": []
   },
   "outputs": [],
   "source": [
    "#### GET STELLAR MASSES FOR THOSE WITH UNKNOWN VALUES\n",
    "mstar, e_mstar, ind_mstar = assign_mstar(T['Mass'], T['e_Mass'])\n",
    "T['Mass'], T['e_Mass'] = mstar, e_mstar"
   ]
  },
  {
   "cell_type": "code",
   "execution_count": 13,
   "id": "b9824f13",
   "metadata": {
    "tags": []
   },
   "outputs": [],
   "source": [
    "### INDEX (NON-)DETECTIONS\n",
    "ind_dd = T['F890'] / T['e_F890'] >= 3.0\n",
    "ind_nd = T['F890'] / T['e_F890'] < 3.0"
   ]
  },
  {
   "cell_type": "code",
   "execution_count": 14,
   "id": "f263f58e",
   "metadata": {
    "tags": []
   },
   "outputs": [],
   "source": [
    "### DEFINE PLOT VARIABLES\n",
    "x_data_lin = np.copy(T['Mass'])\n",
    "y_data_lin = np.copy(T['MDust'])\n",
    "y_data_lin[ind_nd] = 3.0 * np.copy(T['e_MDust'][ind_nd])\n",
    "y_err_lin = np.sqrt((T['e_MDust'])**2 + (0.1 * T['e_MDust'])**2)\n",
    "x_err_lin = np.copy(T['e_Mass'])"
   ]
  },
  {
   "cell_type": "code",
   "execution_count": 15,
   "id": "626d29fa",
   "metadata": {
    "tags": []
   },
   "outputs": [],
   "source": [
    "### CONVERT TO LOG SCALE\n",
    "x_data = np.log10(x_data_lin)\n",
    "y_data = np.log10(y_data_lin)\n",
    "y_err  = np.array(0.434 * (y_err_lin / y_data_lin))\n",
    "x_err  = np.array(0.434 * (x_err_lin / x_data_lin))"
   ]
  },
  {
   "cell_type": "code",
   "execution_count": 16,
   "id": "04970102-5feb-4691-a9b2-09a9fdd6d568",
   "metadata": {
    "tags": []
   },
   "outputs": [
    {
     "name": "stdout",
     "output_type": "stream",
     "text": [
      "\n",
      "LinMix Monte Carlo fitting:\n",
      "\tA  = 1.217+/- 0.247\n",
      "\tB  = 1.854+/- 0.387\n",
      "\tD  = 0.926+/- 0.216\n"
     ]
    }
   ],
   "source": [
    "### GET LINMIX MC RESULTS\n",
    "A, Ae, B, Be, D, De = get_linmix_mc('../output/linmix_mc')"
   ]
  },
  {
   "cell_type": "code",
   "execution_count": 17,
   "id": "471e2d7b",
   "metadata": {
    "tags": []
   },
   "outputs": [
    {
     "data": {
      "text/plain": [
       "([<matplotlib.axis.YTick at 0x127917c50>,\n",
       "  <matplotlib.axis.YTick at 0x127915f50>,\n",
       "  <matplotlib.axis.YTick at 0x1279b41d0>,\n",
       "  <matplotlib.axis.YTick at 0x1279c4590>],\n",
       " [Text(0, -1.0, '−1'),\n",
       "  Text(0, 0.0, '0'),\n",
       "  Text(0, 1.0, '1'),\n",
       "  Text(0, 2.0, '2')])"
      ]
     },
     "execution_count": 17,
     "metadata": {},
     "output_type": "execute_result"
    },
    {
     "data": {
      "image/png": "[encoded data removed]",
      "text/plain": [
       "<Figure size 800x600 with 1 Axes>"
      ]
     },
     "metadata": {},
     "output_type": "display_data"
    }
   ],
   "source": [
    "### SET UP PLOT\n",
    "mpl.rc('xtick', labelsize=15)\n",
    "mpl.rc('ytick', labelsize=15)\n",
    "mpl.rc('xtick.major', size=5, pad=7, width=1)\n",
    "mpl.rc('ytick.major', size=5, pad=7, width=1)\n",
    "mpl.rc('axes', linewidth=1)\n",
    "mpl.rc('lines', markersize=5)\n",
    "fig = plt.figure(figsize=(8, 6))\n",
    "ax = fig.add_subplot(111)\n",
    "xmin, xmax, ymin, ymax = -1.3, 0.6, -1.6, 2.8\n",
    "ax.set_xlim([xmin, xmax])\n",
    "ax.set_ylim([ymin, ymax])\n",
    "ax.tick_params(which='minor', axis='x', length=2.5, color='k', width=1)\n",
    "ax.tick_params(which='minor', axis='y', length=2.5, color='k', width=1)\n",
    "ax.minorticks_on()\n",
    "ax.set_xlabel(r'$\\mathregular{log(M_{\\star})}$' + ' ' + r'$\\mathregular{[M_{\\odot}]}$', fontsize=17)\n",
    "ax.set_ylabel(r'$\\mathregular{log(M_{dust})}$' + ' ' + r'$\\mathregular{[M_{\\oplus}]}$', fontsize=17)\n",
    "ax.yaxis.set_major_locator(MaxNLocator(integer=True))\n",
    "plt.xticks(np.arange(-1, 0.5+0.1, 0.5))\n",
    "plt.yticks(np.arange(-1, 2+1, 1.0))"
   ]
  },
  {
   "cell_type": "code",
   "execution_count": 18,
   "id": "606121da",
   "metadata": {
    "tags": []
   },
   "outputs": [
    {
     "data": {
      "text/plain": [
       "<matplotlib.collections.PathCollection at 0x122fcbc50>"
      ]
     },
     "execution_count": 18,
     "metadata": {},
     "output_type": "execute_result"
    }
   ],
   "source": [
    "### PLOT DETECTIONS WITH ERROR BARS\n",
    "### ONLY PLOT THOSE WITH KNOWN STELLAR MASSES\n",
    "ax.errorbar(x_data[ind_dd & ind_mstar], y_data[ind_dd & ind_mstar], yerr=y_err[ind_dd & ind_mstar], xerr=x_err[ind_dd & ind_mstar], ms=0, ecolor='lightgray', zorder=3, elinewidth=0.5, ls='none', capsize=2)\n",
    "ax.scatter(x_data[ind_dd & ind_mstar], y_data[ind_dd & ind_mstar], marker='o', facecolor='lightblue', s=40, edgecolor='black', lw=1, zorder=4)"
   ]
  },
  {
   "cell_type": "code",
   "execution_count": 19,
   "id": "72b4dcef",
   "metadata": {
    "tags": []
   },
   "outputs": [
    {
     "data": {
      "text/plain": [
       "<matplotlib.collections.PathCollection at 0x1279151d0>"
      ]
     },
     "execution_count": 19,
     "metadata": {},
     "output_type": "execute_result"
    }
   ],
   "source": [
    "### PLOT NON-DETECTIONS\n",
    "### ONLY PLOT THOSE WITH KNOWN STELLAR MASSES\n",
    "ax.scatter(x_data[ind_nd & ind_mstar], y_data[ind_nd & ind_mstar], marker='v', facecolor='lightgray', s=40, edgecolor='gray', lw=1, zorder=3)"
   ]
  },
  {
   "cell_type": "code",
   "execution_count": 20,
   "id": "9b02e4a2",
   "metadata": {
    "tags": []
   },
   "outputs": [
    {
     "data": {
      "text/plain": [
       "[<matplotlib.lines.Line2D at 0x127a77290>]"
      ]
     },
     "execution_count": 20,
     "metadata": {},
     "output_type": "execute_result"
    }
   ],
   "source": [
    "### PLOT LINE FITS TO POPULATIONS\n",
    "xfit = np.log10(np.arange(10, 1e4) / 1e3)\n",
    "ax.plot(xfit, 1.20 + 1.80 * xfit,color='lightblue', linewidth=2, zorder=2, label='Lupus')\n",
    "ax.plot(xfit, 1.20 + 1.70 * xfit, color='darkviolet', linewidth=2, alpha=0.3, zorder=1, label='Taurus')\n",
    "ax.plot(xfit, 0.80 + 2.40 * xfit, color='green', linewidth=2, alpha=0.3, zorder=1, label='Upper Sco')\n",
    "# ax.plot(xfit, 1.45 + 1.80 * xfit,color='lightblue',linewidth=2, alpha=0.3, zorder=1, label='Lupus - Only Known Stellar Masses')"
   ]
  },
  {
   "cell_type": "code",
   "execution_count": 21,
   "id": "b4cf8253",
   "metadata": {
    "tags": []
   },
   "outputs": [
    {
     "data": {
      "image/png": "[encoded data removed]",
      "text/plain": [
       "<Figure size 800x600 with 1 Axes>"
      ]
     },
     "execution_count": 21,
     "metadata": {},
     "output_type": "execute_result"
    }
   ],
   "source": [
    "### SAVE FIGURE\n",
    "fig.savefig('../output/figure_06.png', bbox_inches='tight', dpi=100)\n",
    "fig"
   ]
  },
  {
   "cell_type": "code",
   "execution_count": 22,
   "id": "2d096a6e",
   "metadata": {
    "tags": []
   },
   "outputs": [],
   "source": [
    "plt.close('all')"
   ]
  },
  {
   "cell_type": "code",
   "execution_count": null,
   "id": "2ca31975-b0c9-4499-913e-dd436e212ad2",
   "metadata": {},
   "outputs": [],
   "source": []
  }
 ],
 "metadata": {
  "jupytext": {
   "cell_metadata_filter": "-all",
   "main_language": "python",
   "notebook_metadata_filter": "-all"
  },
  "kernelspec": {
   "display_name": "Python 3 (ipykernel)",
   "language": "python",
   "name": "python3"
  },
  "language_info": {
   "codemirror_mode": {
    "name": "ipython",
    "version": 3
   },
   "file_extension": ".py",
   "mimetype": "text/x-python",
   "name": "python",
   "nbconvert_exporter": "python",
   "pygments_lexer": "ipython3",
   "version": "3.11.5"
  }
 },
 "nbformat": 4,
 "nbformat_minor": 5
}
